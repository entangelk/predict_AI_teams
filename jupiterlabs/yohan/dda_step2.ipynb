{
 "cells": [
  {
   "cell_type": "markdown",
   "metadata": {},
   "source": [
    "# 개요\n",
    "- step 1에서의 군집화 결과 충분하지 못하다고 판단되어 데이터 전처리를 다시한번 진행하여 군집화를 진행한다"
   ]
  },
  {
   "cell_type": "code",
   "execution_count": 1,
   "metadata": {},
   "outputs": [],
   "source": [
    "import pandas as pd"
   ]
  },
  {
   "cell_type": "code",
   "execution_count": 2,
   "metadata": {},
   "outputs": [],
   "source": [
    "import seaborn as sns\n",
    "import matplotlib as plt"
   ]
  },
  {
   "cell_type": "code",
   "execution_count": 3,
   "metadata": {},
   "outputs": [],
   "source": [
    "df_sales = pd.read_csv('../data/sales.csv')\n",
    "df_info = pd.read_csv('../data/product_info.csv')\n",
    "df_keyword = pd.read_csv('../data/brand_keyword_cnt.csv')"
   ]
  },
  {
   "cell_type": "code",
   "execution_count": 4,
   "metadata": {},
   "outputs": [],
   "source": [
    "# 조사, 어미, 구두점 같은 것을 제거\n",
    "def okt_clean(text):\n",
    "    from konlpy.tag import Okt\n",
    "    okt = Okt()\n",
    "    clean_text = []\n",
    "    for word in okt.pos(text, stem=True):\n",
    "        if word[1] not in ['Josa', 'Eomi', 'Punctuation']:\n",
    "            clean_text.append(word[0])\n",
    "\n",
    "    return \" \".join(clean_text)"
   ]
  },
  {
   "cell_type": "code",
   "execution_count": 5,
   "metadata": {},
   "outputs": [],
   "source": [
    "df_info['new_text'] = df_info['제품특성'].apply(okt_clean)"
   ]
  },
  {
   "cell_type": "code",
   "execution_count": 9,
   "metadata": {},
   "outputs": [],
   "source": [
    "# 숫자 삭제\n",
    "df_info['new_text'] = df_info['new_text'].str.replace('[0-9]','',regex=True)"
   ]
  },
  {
   "cell_type": "code",
   "execution_count": 11,
   "metadata": {},
   "outputs": [
    {
     "data": {
      "text/plain": [
       "20    제품 유형 일반 식품 종류 어류 섭취 대상 성인 남녀 제품 타입 분말 제품 용량  ...\n",
       "21    제품 유형 일반 식품 주요 기능 성 식약처 인증 해당 없다 영양소 원료 명 식약처 ...\n",
       "22    제품 유형 일반 식품 종류 어류 섭취 대상 성인 남녀 제품 타입 구미 젤리 제품 용...\n",
       "23    주요 기능 성 식약처 인증 체지방 감소 영양소 원료 명 식약처 고시 비타민 B  영...\n",
       "24    주요 기능 성 식약처 인증 장 건강 영양소 원료 명 식약처 고시 식이섬유 제품 타입...\n",
       "25    제품 유형 일반 식품 종류 어류 분자량  Da 섭취 대상 성인 남녀 제품 타입 액 ...\n",
       "26    HCA  mg 일 총 섭취 량  정 제품 용량 일 분 제품 타입 정 섭취 횟수 하루...\n",
       "27    제품 유형 일반 식품 영양소 원료 명 식약처 고시 A 종류 비타민 C 분자량 어류 ...\n",
       "28    주요 기능 성 식약처 인증 장 건강 영양소 원료 명 식약처 고시 A 제품 타입 식이...\n",
       "29    HCA  mg 영양소 원료 명 식약처 고시 해당 없다 일 총 섭취 량  정 제품 용...\n",
       "30    제품 타입 분말 섭취 방법 물 섞다 섭취 대상 성인 남녀 섭취 횟수 하루 하다 번 ...\n",
       "31    단백질 성분 분리 대 두 단백질 ISP 단백질  g 섭취 대상 성인 남녀 맛 초코 ...\n",
       "32    제품 타입 분말 섭취 방법 물 섞다 섭취 대상 성인 남녀 섭취 횟수 하루 하다 번 ...\n",
       "33    제품 타입 정 섭취 방법 물 함께 섭취 횟수 하루 하다 번 일 총 섭취 량  정 제...\n",
       "34    HCA  mg 섭취 횟수 하루 하다 번 섭취 방법 물 섞다 섭취 대상 성인 남녀 주...\n",
       "35    영양소 원료 명 식약처 고시 A 비오틴 제품 유형 일반 식품 영양소 원료 명 식약처...\n",
       "36    제품 타입 캡슐 섭취 방법 물 함께 섭취 대상 성인 남녀 섭취 횟수 하루 하다 번 ...\n",
       "37    제품 타입 분말 섭취 방법 물 섞다 섭취 대상 성인 남녀 섭취 횟수 하루 두 번 일...\n",
       "38    제품 타입 정 섭취 대상 성인 남녀 섭취 횟수 하루 두 번 일 총 섭취 량  정 제...\n",
       "39    제품 타입 캡슐 섭취 방법 물 함께 섭취 횟수 하루 하다 번 일 총 섭취 량  캡슐...\n",
       "Name: new_text, dtype: object"
      ]
     },
     "execution_count": 11,
     "metadata": {},
     "output_type": "execute_result"
    }
   ],
   "source": [
    "df_info['new_text'][20:40]"
   ]
  },
  {
   "cell_type": "code",
   "execution_count": 10,
   "metadata": {},
   "outputs": [],
   "source": [
    "# 문장 정리 및 정재작업\n",
    "def solve_text(text):\n",
    "    change_dict = {\n",
    "        '세 부제품' : '세부제품', \n",
    "        '제품' : '',\n",
    "        '유형' : '',\n",
    "        '타입' : '',\n",
    "        '방법' : '',\n",
    "        '주요' : '',\n",
    "        '정 제' : '정제',\n",
    "        '세 팅 력' : '세팅력',\n",
    "        '액 상형' : '액상형',\n",
    "        '두 번' : '두번',\n",
    "        '하다 번' : '한번',\n",
    "    }\n",
    "    for i in change_dict:\n",
    "        text = text.replace(i,change_dict[i])\n",
    "    return text"
   ]
  }
 ],
 "metadata": {
  "kernelspec": {
   "display_name": "Python 3",
   "language": "python",
   "name": "python3"
  },
  "language_info": {
   "codemirror_mode": {
    "name": "ipython",
    "version": 3
   },
   "file_extension": ".py",
   "mimetype": "text/x-python",
   "name": "python",
   "nbconvert_exporter": "python",
   "pygments_lexer": "ipython3",
   "version": "3.11.8"
  }
 },
 "nbformat": 4,
 "nbformat_minor": 2
}
