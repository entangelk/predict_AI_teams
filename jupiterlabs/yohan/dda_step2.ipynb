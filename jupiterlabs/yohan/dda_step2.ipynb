{
 "cells": [
  {
   "cell_type": "markdown",
   "metadata": {},
   "source": [
    "# 개요\n",
    "- 일정 기간의 온라인 채널에서 판매된 제품량으로 분석 진행\n",
    "- 데이터를 통해 인사이트를 도출"
   ]
  }
 ],
 "metadata": {
  "language_info": {
   "name": "python"
  }
 },
 "nbformat": 4,
 "nbformat_minor": 2
}
