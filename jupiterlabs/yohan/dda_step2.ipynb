{
 "cells": [
  {
   "cell_type": "markdown",
   "metadata": {},
   "source": [
    "# 개요\n",
    "- step 1에서의 군집화 결과 충분하지 못하다고 판단되어 데이터 전처리를 다시한번 진행하여 군집화를 진행한다"
   ]
  },
  {
   "cell_type": "code",
   "execution_count": 1,
   "metadata": {},
   "outputs": [],
   "source": [
    "import pandas as pd"
   ]
  },
  {
   "cell_type": "code",
   "execution_count": 2,
   "metadata": {},
   "outputs": [],
   "source": [
    "import seaborn as sns\n",
    "import matplotlib as plt"
   ]
  },
  {
   "cell_type": "code",
   "execution_count": 3,
   "metadata": {},
   "outputs": [],
   "source": [
    "df_sales = pd.read_csv('../data/sales.csv')\n",
    "df_info = pd.read_csv('../data/product_info.csv')\n",
    "df_keyword = pd.read_csv('../data/brand_keyword_cnt.csv')"
   ]
  },
  {
   "cell_type": "code",
   "execution_count": 4,
   "metadata": {},
   "outputs": [],
   "source": [
    "# 조사, 어미, 구두점 같은 것을 제거\n",
    "def okt_clean(text):\n",
    "    from konlpy.tag import Okt\n",
    "    okt = Okt()\n",
    "    clean_text = []\n",
    "    for word in okt.pos(text, stem=True):\n",
    "        if word[1] not in ['Josa', 'Eomi', 'Punctuation']:\n",
    "            clean_text.append(word[0])\n",
    "\n",
    "    return \" \".join(clean_text)"
   ]
  },
  {
   "cell_type": "code",
   "execution_count": 5,
   "metadata": {},
   "outputs": [],
   "source": [
    "df_info['new_text'] = df_info['제품특성'].apply(okt_clean)"
   ]
  },
  {
   "cell_type": "code",
   "execution_count": 6,
   "metadata": {},
   "outputs": [],
   "source": [
    "# 숫자 삭제\n",
    "df_info['new_text'] = df_info['new_text'].str.replace('[0-9]','',regex=True)"
   ]
  },
  {
   "cell_type": "code",
   "execution_count": 19,
   "metadata": {},
   "outputs": [
    {
     "data": {
      "text/plain": [
       "441    제품 타입 정 섭취 방법 물 함께 섭취 대상 성인 남녀 섭취 횟수 하루 하다 번 일...\n",
       "442    제품 타입 캡슐 섭취 방법 물 함께 섭취 대상 성인 남녀 섭취 횟수 하루 두 번 일...\n",
       "443    비타민 D  µ g 섭취 대상 성인 남녀 일 총 섭취 량  정 제품 용량  개월 분...\n",
       "444    주요 기능 성 식약처 인증 영양 보충 영양소 원료 명 식약처 고시 비타민 B  영양...\n",
       "445    주요 기능 성 식약처 인증 영양 보충 영양소 원료 명 식약처 고시 비타민 D 영양소...\n",
       "446    주요 기능 성 식약처 인증 영양 보충 영양소 원료 명 식약처 고시 비타민 A 영양소...\n",
       "447    영양소 원료 명 식약처 고시 A 엽산 일 기 준치 충족 영양소 수  개 비타민 C ...\n",
       "448    비타민 C  mg 일 총 섭취 량  정 제품 용량 일 분 제품 타입 츄어블 섭취 방...\n",
       "449    비타민 C  mg 일 총 섭취 량  정 제품 용량  개월 분 제품 타입 정 섭취 횟...\n",
       "450    주요 기능 성 식약처 인증 영양 보충 영양소 원료 명 식약처 고시 비타민 D 영양소...\n",
       "451    주요 기능 성 식약처 인증 영양 보충 영양소 원료 명 식약처 고시 비타민 A 영양소...\n",
       "452    주요 기능 성 식약처 인증 영양 보충 영양소 원료 명 식약처 고시 비타민 A 영양소...\n",
       "453    주요 기능 성 식약처 인증 영양 보충 영양소 원료 명 식약처 고시 비타민 A 영양소...\n",
       "454    주요 기능 성 식약처 인증 영양 보충 영양소 원료 명 식약처 고시 비타민 A 영양소...\n",
       "455    주요 기능 성 식약처 인증 영양 보충 영양소 원료 명 식약처 고시 비타민 A 영양소...\n",
       "456    주요 기능 성 식약처 인증 영양 보충 영양소 원료 명 식약처 고시 비타민 A 영양소...\n",
       "457    주요 기능 성 식약처 인증 영양 보충 영양소 원료 명 식약처 고시 비타민 A 영양소...\n",
       "458    주요 기능 성 식약처 인증 영양 보충 영양소 원료 명 식약처 고시 비타민 A 영양소...\n",
       "459    주요 기능 성 식약처 인증 영양 보충 영양소 원료 명 식약처 고시 비타민 D 영양소...\n",
       "Name: new_text, dtype: object"
      ]
     },
     "execution_count": 19,
     "metadata": {},
     "output_type": "execute_result"
    }
   ],
   "source": [
    "df_info['new_text'][441:460]"
   ]
  },
  {
   "cell_type": "code",
   "execution_count": 8,
   "metadata": {},
   "outputs": [],
   "source": [
    "# 문장 정리 및 정재작업\n",
    "def solve_text(text):\n",
    "    change_dict = {\n",
    "        '액 상' : '액상',\n",
    "        '세 부제품' : '세부제품', \n",
    "        '제품' : '',\n",
    "        '유형' : '',\n",
    "        '타입' : '',\n",
    "        '방법' : '',\n",
    "        '주요' : '',\n",
    "        '정 제' : '정제',\n",
    "        '세 팅 력' : '세팅력',\n",
    "        '액 상형' : '액상형',\n",
    "        '두 번' : '두번',\n",
    "        '하다 번' : '한번',\n",
    "        '세 번' : '세번'\n",
    "    }\n",
    "    for i in change_dict:\n",
    "        text = text.replace(i,change_dict[i])\n",
    "    return text"
   ]
  },
  {
   "cell_type": "markdown",
   "metadata": {},
   "source": [
    "- 하나 하나 단어를 바꾸고 군집화 하는 것보다 임의의 단어가 포함된 내용을 분류하는 것이 더 효율적이지 않을까?"
   ]
  },
  {
   "cell_type": "markdown",
   "metadata": {},
   "source": [
    "## 분류 단어사전 지정\n",
    "- 상품 분류는 총 15개로 지정 (참고 : 쿠팡 카테고리)\n",
    "\n",
    "|카테고리|labeling|\n",
    "|--|--|\n",
    "|패션의류/잡화|0|\n",
    "|뷰티|1|\n",
    "|출산/유아동|2|\n",
    "|식품|3|\n",
    "|주방용품|4|\n",
    "|생활용품|5|\n",
    "|홈인테리어|6|\n",
    "|가전디지털|7|\n",
    "|스포츠/레저|8|\n",
    "|자동차용품|9|\n",
    "|도서/음반/DVD|10|\n",
    "|완구/취미|11|\n",
    "|문구/오피스|12|\n",
    "|반려동물용품|13|\n",
    "|헬스/건강식품|14|"
   ]
  },
  {
   "cell_type": "code",
   "execution_count": null,
   "metadata": {},
   "outputs": [],
   "source": [
    "# label 포함 단어 지정\n",
    "label_0 = []\n",
    "label_1 = []\n",
    "label_2 = []\n",
    "label_3 = []\n",
    "label_4 = []\n",
    "label_5 = []\n",
    "label_6 = []\n",
    "label_7 = []\n",
    "label_8 = []\n",
    "label_9 = []\n",
    "label_10 = []\n",
    "label_11 = []\n",
    "label_12 = []\n",
    "label_13 = []\n",
    "label_14 = []\n"
   ]
  }
 ],
 "metadata": {
  "kernelspec": {
   "display_name": "Python 3",
   "language": "python",
   "name": "python3"
  },
  "language_info": {
   "codemirror_mode": {
    "name": "ipython",
    "version": 3
   },
   "file_extension": ".py",
   "mimetype": "text/x-python",
   "name": "python",
   "nbconvert_exporter": "python",
   "pygments_lexer": "ipython3",
   "version": "3.11.8"
  }
 },
 "nbformat": 4,
 "nbformat_minor": 2
}
